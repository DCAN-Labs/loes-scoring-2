{
 "cells": [
  {
   "cell_type": "code",
   "execution_count": 3,
   "metadata": {},
   "outputs": [],
   "source": [
    "import pandas as pd\n",
    "import numpy as np"
   ]
  },
  {
   "cell_type": "code",
   "execution_count": 4,
   "metadata": {},
   "outputs": [],
   "source": [
    "# if validation == 1, sort new dataframe by abs(obsv-pred) from highest to lowest\n",
    "def analyze_validation_predictions(df):\n",
    "    \"\"\"\n",
    "    Analyzes the difference between predicted and actual LOES scores for validation data.\n",
    "    \n",
    "    Parameters:\n",
    "    df (pandas.DataFrame): DataFrame for model results .csv\n",
    "    \n",
    "    Returns:\n",
    "    pandas.DataFrame: A new DataFrame containing only validation data (validation=1),\n",
    "                     with columns for anonymized_subject_id, anonymized_session_id, scan,\n",
    "                     loes-score, predicted_loes_score, and the difference between scores,\n",
    "                     sorted by the absolute difference in descending order.\n",
    "    \"\"\"\n",
    "    # Filter rows where validation equals 1\n",
    "    validation_df = df[df['validation'] == 1].copy()\n",
    "    \n",
    "    # Calculate the difference between predicted and actual LOES scores\n",
    "    validation_df['difference'] = validation_df['loes-score'] - validation_df['predicted_loes_score']\n",
    "    \n",
    "    # Select only the columns of interest\n",
    "    result_df = validation_df[['anonymized_subject_id', 'anonymized_session_id', 'scan', \n",
    "                              'loes-score', 'predicted_loes_score', 'difference']]\n",
    "    \n",
    "    # Sort by the absolute value of the difference in descending order\n",
    "    result_df = result_df.reindex(result_df['difference'].abs().sort_values(ascending=False).index)\n",
    "    \n",
    "    return result_df"
   ]
  },
  {
   "cell_type": "code",
   "execution_count": 5,
   "metadata": {},
   "outputs": [],
   "source": [
    "# load in the model results\n",
    "model17_results = pd.read_csv('./model17/model17.csv')\n",
    "model18_results = pd.read_csv('./model18/model18.csv')\n",
    "model19_results = pd.read_csv('./model19/model19.csv')\n",
    "model20_results = pd.read_csv('./model20/model20.csv')\n",
    "model21_results = pd.read_csv('./model21/model21.csv')"
   ]
  },
  {
   "cell_type": "code",
   "execution_count": 6,
   "metadata": {},
   "outputs": [
    {
     "name": "stdout",
     "output_type": "stream",
     "text": [
      "Analyzing model17 predictions...\n",
      "Saved model17_validation_predictions.csv to model17 folder\n",
      "\n",
      "Analyzing model18 predictions...\n",
      "Saved model18_validation_predictions.csv to model18 folder\n",
      "\n",
      "Analyzing model19 predictions...\n",
      "Saved model19_validation_predictions.csv to model19 folder\n",
      "\n",
      "Analyzing model20 predictions...\n",
      "Saved model20_validation_predictions.csv to model20 folder\n",
      "\n",
      "Analyzing model21 predictions...\n",
      "Saved model21_validation_predictions.csv to model21 folder\n",
      "\n"
     ]
    }
   ],
   "source": [
    "# for each model, analyze the validation predictions\n",
    "for model, results in zip(['model17', 'model18', 'model19', 'model20', 'model21'], \n",
    "                          [model17_results, model18_results, model19_results, model20_results, model21_results]):\n",
    "    print(f\"Analyzing {model} predictions...\")\n",
    "    result_df = analyze_validation_predictions(results)\n",
    "    result_df.to_csv(f'./{model}/{model}_validation_predictions.csv', index=False)\n",
    "    print(f\"Saved {model}_validation_predictions.csv to {model} folder\\n\")"
   ]
  }
 ],
 "metadata": {
  "kernelspec": {
   "display_name": ".venv",
   "language": "python",
   "name": "python3"
  },
  "language_info": {
   "codemirror_mode": {
    "name": "ipython",
    "version": 3
   },
   "file_extension": ".py",
   "mimetype": "text/x-python",
   "name": "python",
   "nbconvert_exporter": "python",
   "pygments_lexer": "ipython3",
   "version": "3.9.6"
  }
 },
 "nbformat": 4,
 "nbformat_minor": 2
}
