{
 "cells": [
  {
   "cell_type": "code",
   "execution_count": 13,
   "metadata": {},
   "outputs": [],
   "source": [
    "import pandas as pd\n",
    "import numpy as np"
   ]
  },
  {
   "cell_type": "code",
   "execution_count": 14,
   "metadata": {},
   "outputs": [],
   "source": [
    "model15_results = pd.read_csv(\"./model15/model15.csv\")\n",
    "model14_results = pd.read_csv(\"./model14/model14_512.csv\")"
   ]
  },
  {
   "cell_type": "code",
   "execution_count": 15,
   "metadata": {},
   "outputs": [],
   "source": [
    "# if validation == 1, sort new dataframe by abs(obsv-pred) from highest to lowest\n",
    "def analyze_validation_predictions(df):\n",
    "    \"\"\"\n",
    "    Analyzes the difference between predicted and actual LOES scores for validation data.\n",
    "    \n",
    "    Parameters:\n",
    "    df (pandas.DataFrame): DataFrame for model results .csv\n",
    "    \n",
    "    Returns:\n",
    "    pandas.DataFrame: A new DataFrame containing only validation data (validation=1),\n",
    "                     with columns for anonymized_subject_id, anonymized_session_id, scan,\n",
    "                     loes-score, predicted_loes_score, and the difference between scores,\n",
    "                     sorted by the absolute difference in descending order.\n",
    "    \"\"\"\n",
    "    # Filter rows where validation equals 1\n",
    "    validation_df = df[df['validation'] == 1].copy()\n",
    "    \n",
    "    # Calculate the difference between predicted and actual LOES scores\n",
    "    validation_df['difference'] = validation_df['loes-score'] - validation_df['predicted_loes_score']\n",
    "    \n",
    "    # Select only the columns of interest\n",
    "    result_df = validation_df[['anonymized_subject_id', 'anonymized_session_id', 'scan', \n",
    "                              'loes-score', 'predicted_loes_score', 'difference']]\n",
    "    \n",
    "    # Sort by the absolute value of the difference in descending order\n",
    "    result_df = result_df.reindex(result_df['difference'].abs().sort_values(ascending=False).index)\n",
    "    \n",
    "    return result_df"
   ]
  },
  {
   "cell_type": "code",
   "execution_count": 16,
   "metadata": {},
   "outputs": [],
   "source": [
    "model15_diff_df = analyze_validation_predictions(model15_results)\n",
    "model14_diff_df = analyze_validation_predictions(model14_results)"
   ]
  },
  {
   "cell_type": "code",
   "execution_count": 17,
   "metadata": {},
   "outputs": [],
   "source": [
    "model15_diff_df.to_csv('./model15/model15_high_diff.csv', index=False)\n",
    "model14_diff_df.to_csv('./model14/model14_512_high_diff.csv', index=False)"
   ]
  }
 ],
 "metadata": {
  "kernelspec": {
   "display_name": ".venv",
   "language": "python",
   "name": "python3"
  },
  "language_info": {
   "codemirror_mode": {
    "name": "ipython",
    "version": 3
   },
   "file_extension": ".py",
   "mimetype": "text/x-python",
   "name": "python",
   "nbconvert_exporter": "python",
   "pygments_lexer": "ipython3",
   "version": "3.11.11"
  }
 },
 "nbformat": 4,
 "nbformat_minor": 2
}
